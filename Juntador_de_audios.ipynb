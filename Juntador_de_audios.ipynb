{
  "nbformat": 4,
  "nbformat_minor": 0,
  "metadata": {
    "colab": {
      "provenance": [],
      "mount_file_id": "164-7sEsQ4dg8KuRyz75bRHey4XRU2b5E",
      "authorship_tag": "ABX9TyPfd4i689zPnxsaVh1/pM83",
      "include_colab_link": true
    },
    "kernelspec": {
      "name": "python3",
      "display_name": "Python 3"
    },
    "language_info": {
      "name": "python"
    }
  },
  "cells": [
    {
      "cell_type": "markdown",
      "metadata": {
        "id": "view-in-github",
        "colab_type": "text"
      },
      "source": [
        "<a href=\"https://colab.research.google.com/github/XxNessuxX/Juntador-de-audios./blob/main/Juntador_de_audios.ipynb\" target=\"_parent\"><img src=\"https://colab.research.google.com/assets/colab-badge.svg\" alt=\"Open In Colab\"/></a>"
      ]
    },
    {
      "cell_type": "markdown",
      "source": [
        "# <ins>Juntador de audios.<ins>\n",
        "\n",
        "### Una herramienta simple para juntar audios con un espacio de silencio entre ellos. Muy bueno para juntar audios cortos.\n",
        "\n",
        "Creador: [Xx_Nessu_xX.](https://github.com/XxNessuxX)"
      ],
      "metadata": {
        "id": "FaOq95PvztTE"
      }
    },
    {
      "cell_type": "code",
      "source": [
        "#@title Montar Drive\n",
        "from google.colab import drive\n",
        "drive.mount('/content/drive', force_remount=True)"
      ],
      "metadata": {
        "cellView": "form",
        "id": "OtFym7H-0W8K"
      },
      "execution_count": null,
      "outputs": []
    },
    {
      "cell_type": "code",
      "source": [
        "#@title Exporta el .zip con los audios.\n",
        "import zipfile\n",
        "import os\n",
        "\n",
        "# Ruta del archivo zip que queremos extraer\n",
        "zip_file_path = \"/content/drive/MyDrive/wavs.zip\" #@param {type:\"string\"}\n",
        "\n",
        "# Creamos la carpeta \"audios\" donde guardaremos el contenido del zip\n",
        "output_folder = \"audios\"\n",
        "if not os.path.exists(output_folder):\n",
        "    os.makedirs(output_folder)\n",
        "\n",
        "# Extraemos el contenido del zip en la carpeta \"audios\"\n",
        "with zipfile.ZipFile(zip_file_path, 'r') as zip_ref:\n",
        "    zip_ref.extractall(output_folder)\n",
        "\n",
        "print(\"¡Extracción completada!\")\n"
      ],
      "metadata": {
        "cellView": "form",
        "id": "wm3kAAa20W03"
      },
      "execution_count": null,
      "outputs": []
    },
    {
      "cell_type": "code",
      "execution_count": null,
      "metadata": {
        "id": "lnZEqSgn096E",
        "cellView": "form"
      },
      "outputs": [],
      "source": [
        "#@title Junta tus audios.\n",
        "\n",
        "!pip install pydub\n",
        "import os\n",
        "from pydub import AudioSegment\n",
        "\n",
        "#@markdown Definimos la duración del silencio en milisegundos. (Recomiendo dejarlo en 500)\n",
        "silence_duration = 500 #@param {type:\"slider\", min:300, max:500, step:100}\n",
        "\n",
        "audio_files = os.listdir('audios')\n",
        "\n",
        "audio_segments = []\n",
        "\n",
        "for file in audio_files:\n",
        "    if file.endswith('.wav'):\n",
        "        audio_segments.append(AudioSegment.from_wav(os.path.join('audios', file)))\n",
        "\n",
        "final_audio = AudioSegment.silent(duration=silence_duration)\n",
        "for segment in audio_segments:\n",
        "    final_audio = final_audio + segment + AudioSegment.silent(duration=silence_duration)\n",
        "\n",
        "final_audio.export('audios juntados.wav', format='wav')\n",
        "\n",
        "from google.colab import files\n",
        "files.download('audios juntados.wav')\n"
      ]
    }
  ]
}