{
  "nbformat": 4,
  "nbformat_minor": 0,
  "metadata": {
    "colab": {
      "provenance": [],
      "mount_file_id": "164-7sEsQ4dg8KuRyz75bRHey4XRU2b5E",
      "authorship_tag": "ABX9TyPeuHpkKoWP8U6NFl8g7CQb",
      "include_colab_link": true
    },
    "kernelspec": {
      "name": "python3",
      "display_name": "Python 3"
    },
    "language_info": {
      "name": "python"
    }
  },
  "cells": [
    {
      "cell_type": "markdown",
      "metadata": {
        "id": "view-in-github",
        "colab_type": "text"
      },
      "source": [
        "<a href=\"https://colab.research.google.com/github/XxNessuxX/Juntador-de-audios./blob/main/Juntador_de_audios.ipynb\" target=\"_parent\"><img src=\"https://colab.research.google.com/assets/colab-badge.svg\" alt=\"Open In Colab\"/></a>"
      ]
    },
    {
      "cell_type": "markdown",
      "source": [
        "# <ins>Juntador de audios.<ins>\n",
        "\n",
        "### Una herramienta simple para juntar audios con un espacio de silencio entre ellos. Muy bueno para juntar audios cortos.\n",
        "---\n",
        "Creador: [Xx_Nessu_xX.](https://github.com/XxNessuxX)"
      ],
      "metadata": {
        "id": "FaOq95PvztTE"
      }
    },
    {
      "cell_type": "code",
      "source": [
        "#@title Montar Drive\n",
        "from google.colab import drive\n",
        "drive.mount('/content/drive', force_remount=True)"
      ],
      "metadata": {
        "cellView": "form",
        "id": "OtFym7H-0W8K"
      },
      "execution_count": null,
      "outputs": []
    },
    {
      "cell_type": "code",
      "source": [
        "#@title Exporta el .zip con los audios.\n",
        "import zipfile\n",
        "import os\n",
        "\n",
        "zip_file_path = \"/content/drive/MyDrive/wavs.zip\" #@param {type:\"string\"}\n",
        "\n",
        "output_folder = \"audios\"\n",
        "if not os.path.exists(output_folder):\n",
        "    os.makedirs(output_folder)\n",
        "\n",
        "with zipfile.ZipFile(zip_file_path, 'r') as zip_ref:\n",
        "    zip_ref.extractall(output_folder)\n",
        "\n",
        "print(\"✔️ ¡Extracción completada!\")\n"
      ],
      "metadata": {
        "cellView": "form",
        "id": "wm3kAAa20W03"
      },
      "execution_count": null,
      "outputs": []
    },
    {
      "cell_type": "code",
      "source": [
        "!pip install pydub\n",
        "import os\n",
        "from pydub import AudioSegment\n",
        "\n",
        "#@markdown Definimos la duración del silencio en milisegundos. (Recomiendo dejarlo en 500)\n",
        "silence_duration = 500 #@param {type:\"slider\", min:300, max:500, step:100}\n",
        "#@markdown Selecciona el formato en el que están tus audios.\n",
        "tipo_audio = \"wav\" #@param [\"wav\", \"ogg\", \"mp3\"]\n",
        "\n",
        "audio_files = os.listdir('audios')\n",
        "print(f\"🔎 Archivos encontrados en la carpeta 'audios'.\")\n",
        "\n",
        "audio_segments = []\n",
        "for file in audio_files:\n",
        "    if file.endswith('.' + tipo_audio):\n",
        "        segment = AudioSegment.from_file(os.path.join('audios', file), format=tipo_audio)\n",
        "        audio_segments.append(segment)\n",
        "\n",
        "final_audio = AudioSegment.silent(duration=silence_duration)\n",
        "\n",
        "print(f\"✔️ Juntando audios cortos y añadiendo silencios.\")\n",
        "for segment in audio_segments:\n",
        "    final_audio = final_audio + segment + AudioSegment.silent(duration=silence_duration)\n",
        "\n",
        "output_file = f\"audios_juntados.{tipo_audio}\"\n",
        "final_audio.export(output_file, format=tipo_audio)\n",
        "print(f\"📂 Archivo de audio final exportado como '{output_file}' en la carpeta raíz del proyecto.\")\n",
        "\n",
        "# Descarga el archivo de audio final\n",
        "from google.colab import files\n",
        "files.download(output_file)\n",
        "print(\"⬇️ Archivo de audio final descargado.\")\n"
      ],
      "metadata": {
        "cellView": "form",
        "id": "Tm6IvFS18wik"
      },
      "execution_count": null,
      "outputs": []
    }
  ]
}